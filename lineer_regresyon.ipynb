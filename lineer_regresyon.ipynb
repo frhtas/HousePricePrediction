{
  "nbformat": 4,
  "nbformat_minor": 0,
  "metadata": {
    "colab": {
      "name": "lineer_regresyon (1).ipynb",
      "provenance": [],
      "collapsed_sections": []
    },
    "kernelspec": {
      "name": "python3",
      "display_name": "Python 3"
    },
    "language_info": {
      "name": "python"
    }
  },
  "cells": [
    {
      "cell_type": "markdown",
      "metadata": {
        "id": "H0SR2gAwPe9a"
      },
      "source": [
        "## Kütüphanelerin Yüklenmesi"
      ]
    },
    {
      "cell_type": "code",
      "metadata": {
        "id": "dcnkgtcfNqpz"
      },
      "source": [
        "import numpy as np\n",
        "import pandas as pd\n",
        "import matplotlib.pyplot as plt\n",
        "import seaborn as sns\n",
        "import sklearn\n",
        "from sklearn.linear_model import LinearRegression\n",
        "from sklearn.model_selection import cross_val_score\n",
        "from sklearn.model_selection import train_test_split\n",
        "from sklearn.preprocessing import MinMaxScaler\n",
        "from sklearn.preprocessing import StandardScaler\n",
        "from sklearn.feature_selection import RFE\n",
        "from sklearn.decomposition import PCA\n",
        "from sklearn.svm import SVR\n",
        "from sklearn.svm import LinearSVR\n",
        "\n",
        "from sklearn.neighbors import KNeighborsRegressor\n",
        "from sklearn.linear_model import LinearRegression, LogisticRegression\n",
        "from sklearn.svm import SVR\n",
        "from sklearn.metrics import r2_score\n",
        "from sklearn.ensemble import RandomForestRegressor\n",
        "import pandas as pd\n",
        "import pickle\n",
        " "
      ],
      "execution_count": null,
      "outputs": []
    },
    {
      "cell_type": "code",
      "source": [
        "print(sklearn.__version__)"
      ],
      "metadata": {
        "colab": {
          "base_uri": "https://localhost:8080/"
        },
        "id": "5oiKb-ahOvIj",
        "outputId": "959570e4-a218-4e75-d2ad-8ab88d9b8101"
      },
      "execution_count": null,
      "outputs": [
        {
          "output_type": "stream",
          "name": "stdout",
          "text": [
            "1.0.2\n"
          ]
        }
      ]
    },
    {
      "cell_type": "code",
      "source": [
        "pip install scikit-learn==1.0.2"
      ],
      "metadata": {
        "colab": {
          "base_uri": "https://localhost:8080/",
          "height": 343
        },
        "id": "6HWnZRvoWXKn",
        "outputId": "65a165f0-e88b-4ea1-83b9-ac1434604ea0"
      },
      "execution_count": null,
      "outputs": [
        {
          "output_type": "stream",
          "name": "stdout",
          "text": [
            "Collecting scikit-learn==1.0.2\n",
            "  Downloading scikit_learn-1.0.2-cp37-cp37m-manylinux_2_17_x86_64.manylinux2014_x86_64.whl (24.8 MB)\n",
            "\u001b[K     |████████████████████████████████| 24.8 MB 1.5 MB/s \n",
            "\u001b[?25hRequirement already satisfied: numpy>=1.14.6 in /usr/local/lib/python3.7/dist-packages (from scikit-learn==1.0.2) (1.19.5)\n",
            "Requirement already satisfied: scipy>=1.1.0 in /usr/local/lib/python3.7/dist-packages (from scikit-learn==1.0.2) (1.4.1)\n",
            "Requirement already satisfied: threadpoolctl>=2.0.0 in /usr/local/lib/python3.7/dist-packages (from scikit-learn==1.0.2) (3.0.0)\n",
            "Requirement already satisfied: joblib>=0.11 in /usr/local/lib/python3.7/dist-packages (from scikit-learn==1.0.2) (1.1.0)\n",
            "Installing collected packages: scikit-learn\n",
            "  Attempting uninstall: scikit-learn\n",
            "    Found existing installation: scikit-learn 1.0.1\n",
            "    Uninstalling scikit-learn-1.0.1:\n",
            "      Successfully uninstalled scikit-learn-1.0.1\n",
            "Successfully installed scikit-learn-1.0.2\n"
          ]
        },
        {
          "output_type": "display_data",
          "data": {
            "application/vnd.colab-display-data+json": {
              "pip_warning": {
                "packages": [
                  "sklearn"
                ]
              }
            }
          },
          "metadata": {}
        }
      ]
    },
    {
      "cell_type": "code",
      "source": [
        "from google.colab import drive\n",
        "drive.mount('/content/drive')"
      ],
      "metadata": {
        "colab": {
          "base_uri": "https://localhost:8080/"
        },
        "id": "YwMYG2xswrEx",
        "outputId": "4af5ff0e-629a-4cbd-e2cb-81b17dd0ad7a"
      },
      "execution_count": null,
      "outputs": [
        {
          "output_type": "stream",
          "name": "stdout",
          "text": [
            "Mounted at /content/drive\n"
          ]
        }
      ]
    },
    {
      "cell_type": "code",
      "source": [
        "import json\n",
        "\n",
        "ILCE_LIST = [\"esenyurt\", \"besiktas\", \"pendik\", \"kucukcekmece\", \"bahcelievler\", \"uskudar\", \"kadikoy\", \"sariyer\", \"bakirkoy\", \"sisli\"]\n",
        "roomCount = {}\n",
        "buildingAge = {}\n",
        "heatingType = {}\n",
        "\n",
        "\n",
        "for ilce in ILCE_LIST:  \n",
        "  houses_df = pd.read_csv(\"/content/drive/MyDrive/dataset/\" + ilce + \".csv\")\n",
        "  roomCount[ilce] = houses_df['Oda Sayısı'].unique().tolist()\n",
        "  buildingAge[ilce] = houses_df['Bina Yaşı'].unique().tolist()\n",
        "  heatingType[ilce] = houses_df['Isıtma Tipi'].unique().tolist()\n",
        "\n",
        "with open('roomCount.json', 'w') as fp:\n",
        "    json.dump(roomCount, fp)\n",
        "\n",
        "with open('buildingAge.json', 'w') as fp:\n",
        "    json.dump(buildingAge, fp)\n",
        "\n",
        "with open('heatingType.json', 'w') as fp:\n",
        "    json.dump(heatingType, fp)\n",
        "\n",
        "  \n"
      ],
      "metadata": {
        "id": "rnywVN_vPMn9"
      },
      "execution_count": null,
      "outputs": []
    },
    {
      "cell_type": "code",
      "source": [
        "ILCE_LIST = [\"esenyurt\", \"besiktas\", \"pendik\", \"kucukcekmece\", \"bahcelievler\", \"uskudar\", \"kadikoy\", \"sariyer\", \"bakirkoy\", \"sisli\"]\n",
        "DEFAULT_INPUTS = {}\n",
        "for ilce in ILCE_LIST:  \n",
        "  houses_df = pd.read_csv(\"/content/\" + ilce + \".csv\")\n",
        "  houses_df = houses_df[houses_df['Kira'] < 50000]\n",
        "  houses_df = houses_df[houses_df['Kira'] > 1000]\n",
        "  houses_df = houses_df.reset_index(drop=True)\n",
        "  \n",
        "  oda_hashmap = {'6+1': 8, '2+0': 2,'2+2': 6, '1.5+1': 2, '2.5+1': 4, '2+1': 4,'3+1': 5,'5+2': 9,'Stüdyo': 1,'1+1': 2,'3+2': 7,'1 Oda': 1,'4+1': 6,'5+1': 7,'4+2': 8,'8+ Oda': 13,'7+2': 11,'6+2': 10, '3.5+1': 5}\n",
        "  bina_hashmap = {'21 Ve Üzeri': 25, '5-10': 7, '11-15': 13, '16-20': 18, '4': 4, '0 (Yeni)': 0, '1': 1, '3': 3, '2': 2}\n",
        "  balkon_hashmap = {'Yok': -1, 'Var': 1}\n",
        "  esya_hashmap = {'Boş': -1, 'Eşyalı': 1}\n",
        "  site_hashmap = {'Evet': 1, 'Hayır': -1}\n",
        "  houses_df = houses_df.replace({'Oda Sayısı': oda_hashmap})\n",
        "  houses_df = houses_df.replace({'Bina Yaşı': bina_hashmap})\n",
        "  houses_df = houses_df.replace({'Balkon Durumu': balkon_hashmap})\n",
        "  houses_df = houses_df.replace({'Eşya Durumu': esya_hashmap})\n",
        "  houses_df = houses_df.replace({'Site İçerisinde': site_hashmap})\n",
        "  houses_df = pd.get_dummies(houses_df)\n",
        "  houses_df.pop('Kira')\n",
        "  print(houses_df.columns)\n",
        "  DEFAULT_INPUTS[ilce] = houses_df[:1]\n",
        "\n",
        "pickle.dump(DEFAULT_INPUTS, open('DEFAULT_INPUTS', 'wb'))\n"
      ],
      "metadata": {
        "id": "UePGbjZaVcEK",
        "colab": {
          "base_uri": "https://localhost:8080/"
        },
        "outputId": "933d6f7f-52d3-403d-85d8-730e47a027b7"
      },
      "execution_count": null,
      "outputs": [
        {
          "output_type": "stream",
          "name": "stdout",
          "text": [
            "Index(['Alan', 'Oda Sayısı', 'Banyo Sayısı', 'Bina Yaşı', 'Balkon Durumu',\n",
            "       'Eşya Durumu', 'Site İçerisinde', 'Isıtma Tipi_Doğalgaz Sobalı',\n",
            "       'Isıtma Tipi_Kat Kaloriferi', 'Isıtma Tipi_Klimalı',\n",
            "       'Isıtma Tipi_Kombi Doğalgaz', 'Isıtma Tipi_Merkezi (Pay Ölçer)',\n",
            "       'Isıtma Tipi_Merkezi Doğalgaz', 'Isıtma Tipi_Sobalı'],\n",
            "      dtype='object')\n",
            "Index(['Alan', 'Oda Sayısı', 'Banyo Sayısı', 'Bina Yaşı', 'Balkon Durumu',\n",
            "       'Eşya Durumu', 'Site İçerisinde', 'Isıtma Tipi_Kombi Doğalgaz',\n",
            "       'Isıtma Tipi_Merkezi (Pay Ölçer)', 'Isıtma Tipi_Merkezi Doğalgaz',\n",
            "       'Isıtma Tipi_Yerden Isıtma'],\n",
            "      dtype='object')\n",
            "Index(['Alan', 'Oda Sayısı', 'Banyo Sayısı', 'Bina Yaşı', 'Balkon Durumu',\n",
            "       'Eşya Durumu', 'Site İçerisinde', 'Isıtma Tipi_Doğalgaz Sobalı',\n",
            "       'Isıtma Tipi_Isıtma Yok', 'Isıtma Tipi_Kombi Doğalgaz',\n",
            "       'Isıtma Tipi_Merkezi (Pay Ölçer)', 'Isıtma Tipi_Merkezi Doğalgaz',\n",
            "       'Isıtma Tipi_Sobalı', 'Isıtma Tipi_Yerden Isıtma'],\n",
            "      dtype='object')\n",
            "Index(['Alan', 'Oda Sayısı', 'Banyo Sayısı', 'Bina Yaşı', 'Balkon Durumu',\n",
            "       'Eşya Durumu', 'Site İçerisinde', 'Isıtma Tipi_Doğalgaz Sobalı',\n",
            "       'Isıtma Tipi_Isıtma Yok', 'Isıtma Tipi_Klimalı',\n",
            "       'Isıtma Tipi_Kombi Doğalgaz', 'Isıtma Tipi_Merkezi (Pay Ölçer)',\n",
            "       'Isıtma Tipi_Merkezi Doğalgaz', 'Isıtma Tipi_Sobalı',\n",
            "       'Isıtma Tipi_Yerden Isıtma'],\n",
            "      dtype='object')\n",
            "Index(['Alan', 'Oda Sayısı', 'Banyo Sayısı', 'Bina Yaşı', 'Balkon Durumu',\n",
            "       'Eşya Durumu', 'Site İçerisinde', 'Isıtma Tipi_Isıtma Yok',\n",
            "       'Isıtma Tipi_Kat Kaloriferi', 'Isıtma Tipi_Klimalı',\n",
            "       'Isıtma Tipi_Kombi Doğalgaz', 'Isıtma Tipi_Merkezi (Pay Ölçer)',\n",
            "       'Isıtma Tipi_Merkezi Doğalgaz', 'Isıtma Tipi_Yerden Isıtma'],\n",
            "      dtype='object')\n",
            "Index(['Alan', 'Banyo Sayısı', 'Bina Yaşı', 'Balkon Durumu', 'Eşya Durumu',\n",
            "       'Site İçerisinde', 'Oda Sayısı_1', 'Oda Sayısı_2', 'Oda Sayısı_4',\n",
            "       'Oda Sayısı_5', 'Oda Sayısı_6', 'Oda Sayısı_7', 'Oda Sayısı_8',\n",
            "       'Oda Sayısı_4.5+1', 'Isıtma Tipi_Isıtma Yok',\n",
            "       'Isıtma Tipi_Kombi Doğalgaz', 'Isıtma Tipi_Merkezi (Pay Ölçer)',\n",
            "       'Isıtma Tipi_Merkezi Doğalgaz', 'Isıtma Tipi_Yerden Isıtma'],\n",
            "      dtype='object')\n",
            "Index(['Alan', 'Oda Sayısı', 'Banyo Sayısı', 'Bina Yaşı', 'Balkon Durumu',\n",
            "       'Eşya Durumu', 'Site İçerisinde', 'Isıtma Tipi_Isıtma Yok',\n",
            "       'Isıtma Tipi_Klimalı', 'Isıtma Tipi_Kombi Doğalgaz',\n",
            "       'Isıtma Tipi_Merkezi (Pay Ölçer)', 'Isıtma Tipi_Merkezi Doğalgaz',\n",
            "       'Isıtma Tipi_Yerden Isıtma'],\n",
            "      dtype='object')\n",
            "Index(['Alan', 'Oda Sayısı', 'Banyo Sayısı', 'Bina Yaşı', 'Balkon Durumu',\n",
            "       'Eşya Durumu', 'Site İçerisinde', 'Isıtma Tipi_Doğalgaz Sobalı',\n",
            "       'Isıtma Tipi_Isıtma Yok', 'Isıtma Tipi_Klimalı',\n",
            "       'Isıtma Tipi_Kombi Doğalgaz', 'Isıtma Tipi_Kombi Fueloil',\n",
            "       'Isıtma Tipi_Merkezi (Pay Ölçer)', 'Isıtma Tipi_Merkezi Doğalgaz',\n",
            "       'Isıtma Tipi_Yerden Isıtma'],\n",
            "      dtype='object')\n",
            "Index(['Alan', 'Banyo Sayısı', 'Bina Yaşı', 'Balkon Durumu', 'Eşya Durumu',\n",
            "       'Site İçerisinde', 'Oda Sayısı_1', 'Oda Sayısı_2', 'Oda Sayısı_4',\n",
            "       'Oda Sayısı_5', 'Oda Sayısı_6', 'Oda Sayısı_7', 'Oda Sayısı_8',\n",
            "       'Oda Sayısı_9', 'Oda Sayısı_10', 'Oda Sayısı_4.5+1',\n",
            "       'Isıtma Tipi_Isıtma Yok', 'Isıtma Tipi_Klimalı',\n",
            "       'Isıtma Tipi_Kombi Doğalgaz', 'Isıtma Tipi_Merkezi (Pay Ölçer)',\n",
            "       'Isıtma Tipi_Merkezi Doğalgaz', 'Isıtma Tipi_Yerden Isıtma'],\n",
            "      dtype='object')\n",
            "Index(['Alan', 'Oda Sayısı', 'Banyo Sayısı', 'Bina Yaşı', 'Balkon Durumu',\n",
            "       'Eşya Durumu', 'Site İçerisinde', 'Isıtma Tipi_Kat Kaloriferi',\n",
            "       'Isıtma Tipi_Klimalı', 'Isıtma Tipi_Kombi Doğalgaz',\n",
            "       'Isıtma Tipi_Merkezi (Pay Ölçer)', 'Isıtma Tipi_Merkezi Doğalgaz',\n",
            "       'Isıtma Tipi_Sobalı', 'Isıtma Tipi_Yerden Isıtma'],\n",
            "      dtype='object')\n"
          ]
        }
      ]
    },
    {
      "cell_type": "code",
      "source": [
        "import pickle \n",
        "\n",
        "ILCE_LIST = [\"esenyurt\", \"besiktas\", \"pendik\", \"kucukcekmece\", \"bahcelievler\", \"uskudar\", \"kadikoy\", \"sariyer\", \"bakirkoy\", \"sisli\"]\n",
        "\n",
        "for ilce in ILCE_LIST:\n",
        "  houses_df = pd.read_csv(\"/content/\" + ilce + \".csv\")\n",
        "  houses_df.head()\n",
        "  houses_df = houses_df[houses_df['Kira'] < 50000]\n",
        "  houses_df = houses_df[houses_df['Kira'] > 1000]\n",
        "  houses_df = houses_df.reset_index(drop=True)\n",
        "  oda_hashmap = {'6+1': 8, '2+0': 2,'2+2': 6, '1.5+1': 2, '2.5+1': 4, '2+1': 4,'3+1': 5,'5+2': 9,'Stüdyo': 1,'1+1': 2,'3+2': 7,'1 Oda': 1,'4+1': 6,'5+1': 7,'4+2': 8,'8+ Oda': 13,'7+2': 11,'6+2': 10, '3.5+1': 5}\n",
        "  bina_hashmap = {'21 Ve Üzeri': 25, '5-10': 7, '11-15': 13, '16-20': 18, '4': 4, '0 (Yeni)': 0, '1': 1, '3': 3, '2': 2}\n",
        "  balkon_hashmap = {'Yok': -1, 'Var': 1}\n",
        "  esya_hashmap = {'Boş': -1, 'Eşyalı': 1}\n",
        "  site_hashmap = {'Evet': 1, 'Hayır': -1}\n",
        "  houses_df = houses_df.replace({'Oda Sayısı': oda_hashmap})\n",
        "  houses_df = houses_df.replace({'Bina Yaşı': bina_hashmap})\n",
        "  houses_df = houses_df.replace({'Balkon Durumu': balkon_hashmap})\n",
        "  houses_df = houses_df.replace({'Eşya Durumu': esya_hashmap})\n",
        "  houses_df = houses_df.replace({'Site İçerisinde': site_hashmap})\n",
        "  houses_df.head()\n",
        "  houses_df = pd.get_dummies(houses_df)\n",
        "  houses_df_train, houses_df_test = train_test_split(houses_df, \n",
        "                                     train_size = 0.9, \n",
        "                                     test_size = 0.1, \n",
        "                                     random_state = 10)\n",
        "  X_train = houses_df_train ## Kira harici kategoriler\n",
        "  y_train = X_train.pop('Kira') ## Kira kategorisi\n",
        "  X_test = houses_df_test\n",
        "  y_test = X_test.pop('Kira')\n",
        "  models = [LinearRegression(),\n",
        "              RandomForestRegressor(n_estimators=100, max_features='sqrt'),\n",
        "              KNeighborsRegressor(n_neighbors=1),\n",
        "              SVR(kernel='linear'),\n",
        "              ]\n",
        "  trained_models=[]\n",
        "  for model in models:\n",
        "    reg_model = model.fit(X_train, y_train)\n",
        "    trained_models.append(reg_model)\n",
        "    y_pred = reg_model.predict(X_train)\n",
        "    final_score = r2_score(y_train, y_pred)\n",
        "    \n",
        "    print(model, final_score)\n",
        "\n",
        "  pickle.dump(trained_models, open(\"/content/drive/MyDrive/models2/\" + ilce, 'wb'))"
      ],
      "metadata": {
        "colab": {
          "base_uri": "https://localhost:8080/"
        },
        "id": "SVB0bvgJSVVb",
        "outputId": "f9d9a5ea-7164-4bde-f487-a562b1fb41fa"
      },
      "execution_count": null,
      "outputs": [
        {
          "output_type": "stream",
          "name": "stdout",
          "text": [
            "LinearRegression() 0.16944886434200424\n",
            "RandomForestRegressor(max_features='sqrt') 0.8321900336078512\n",
            "KNeighborsRegressor(n_neighbors=1) 0.9626601371159621\n",
            "SVR(kernel='linear') 0.08365435252398434\n",
            "LinearRegression() 0.5469989219520641\n",
            "RandomForestRegressor(max_features='sqrt') 0.9145756288953486\n",
            "KNeighborsRegressor(n_neighbors=1) 0.9369804295045662\n",
            "SVR(kernel='linear') 0.29497122065975634\n",
            "LinearRegression() 0.8131707013212472\n",
            "RandomForestRegressor(max_features='sqrt') 0.8811636932237815\n",
            "KNeighborsRegressor(n_neighbors=1) 0.994593769831273\n",
            "SVR(kernel='linear') 0.3004181976917597\n",
            "LinearRegression() 0.6433705403584877\n",
            "RandomForestRegressor(max_features='sqrt') 0.9438576488261188\n",
            "KNeighborsRegressor(n_neighbors=1) 0.9966517354914586\n",
            "SVR(kernel='linear') 0.2961577943848617\n",
            "LinearRegression() 0.5077581354365606\n",
            "RandomForestRegressor(max_features='sqrt') 0.9034862379317073\n",
            "KNeighborsRegressor(n_neighbors=1) 0.9662608645664289\n",
            "SVR(kernel='linear') 0.30667663236586507\n",
            "LinearRegression() 0.7599770716787007\n",
            "RandomForestRegressor(max_features='sqrt') 0.9098729449940993\n",
            "KNeighborsRegressor(n_neighbors=1) 0.9535607470303684\n",
            "SVR(kernel='linear') 0.2762813599805374\n",
            "LinearRegression() 0.7350026399233149\n",
            "RandomForestRegressor(max_features='sqrt') 0.9282793531695049\n",
            "KNeighborsRegressor(n_neighbors=1) 0.9973284466729764\n",
            "SVR(kernel='linear') 0.60455796799342\n",
            "LinearRegression() 0.5973347667912783\n",
            "RandomForestRegressor(max_features='sqrt') 0.9386915518749348\n",
            "KNeighborsRegressor(n_neighbors=1) 0.9868691083838758\n",
            "SVR(kernel='linear') 0.4811364337725009\n",
            "LinearRegression() 0.717042541261594\n",
            "RandomForestRegressor(max_features='sqrt') 0.8914373021013547\n",
            "KNeighborsRegressor(n_neighbors=1) 0.8222245702308351\n",
            "SVR(kernel='linear') 0.5017335450049846\n",
            "LinearRegression() 0.5953373155336513\n",
            "RandomForestRegressor(max_features='sqrt') 0.9097949673050698\n",
            "KNeighborsRegressor(n_neighbors=1) 0.9949609394698475\n",
            "SVR(kernel='linear') 0.43266353255260315\n"
          ]
        }
      ]
    },
    {
      "cell_type": "code",
      "source": [
        "!zip -r /content/json.zip /content/json"
      ],
      "metadata": {
        "colab": {
          "base_uri": "https://localhost:8080/"
        },
        "id": "bayENwSxbK3w",
        "outputId": "c50c9803-7450-4382-a536-d692b3a90a74"
      },
      "execution_count": null,
      "outputs": [
        {
          "output_type": "stream",
          "name": "stdout",
          "text": [
            "  adding: content/json/ (stored 0%)\n",
            "  adding: content/json/buildingAge.json (deflated 71%)\n",
            "  adding: content/json/heatingType.json (deflated 82%)\n",
            "  adding: content/json/roomCount.json (deflated 71%)\n"
          ]
        }
      ]
    },
    {
      "cell_type": "code",
      "source": [
        "pickle.load(open(\"/content/DEFAULT_INPUTS\", \"rb\"))"
      ],
      "metadata": {
        "id": "MHEf1gqiTzoH"
      },
      "execution_count": null,
      "outputs": []
    },
    {
      "cell_type": "code",
      "metadata": {
        "id": "kHaz6igYQmlU"
      },
      "source": [
        "ILCE_LIST = [\"esenyurt\", \"besiktas\", \"pendik\", \"kucukcekmece\", \"bahcelievler\", \"uskudar\", \"kadikoy\", \"sariyer\", \"bakirkoy\", \"sisli\"]\n",
        "for ilce in ILCE_LIST:\n",
        "  houses_df = pd.read_csv(\"/content/pendik.csv\")\n",
        "  houses_df.head()\n",
        "  ## Verinin başarısını olumsuz etkileyecek uç durumlar temizlenerek veri düzenlendi\n",
        "  houses_df = houses_df[houses_df['Kira'] < 10000]\n",
        "  houses_df = houses_df[houses_df['Kira'] > 1000]\n",
        "  houses_df = houses_df.reset_index(drop=True)"
      ],
      "execution_count": null,
      "outputs": []
    },
    {
      "cell_type": "code",
      "metadata": {
        "id": "t-MUx2ZlU9Cq"
      },
      "source": [
        "## Verinin başarısını olumsuz etkileyecek uç durumlar temizlenerek veri düzenlendi\n",
        "houses_df = houses_df[houses_df['Kira'] < 10000]\n",
        "houses_df = houses_df[houses_df['Kira'] > 1000]\n",
        "houses_df = houses_df.reset_index(drop=True)"
      ],
      "execution_count": null,
      "outputs": []
    },
    {
      "cell_type": "code",
      "metadata": {
        "colab": {
          "base_uri": "https://localhost:8080/"
        },
        "id": "5y4XhBGeOefH",
        "outputId": "22841788-21bb-40bc-ede8-b231b4ee0491"
      },
      "source": [
        "print(houses_df['Oda Sayısı'].unique().tolist())\n",
        "print(houses_df['Bina Yaşı'].unique().tolist())\n",
        "print(houses_df['Balkon Durumu'].unique().tolist())\n",
        "print(houses_df['Eşya Durumu'].unique().tolist())\n",
        "print(houses_df['Site İçerisinde'].unique().tolist())"
      ],
      "execution_count": null,
      "outputs": [
        {
          "output_type": "stream",
          "name": "stdout",
          "text": [
            "['2+1', 'Stüdyo', '3+1', '3.5+1', '1+1', '1.5+1', '4+1', '3+2']\n",
            "['2', '5-10', '3', '21 Ve Üzeri', '16-20', '11-15', '4', '0 (Yeni)', '1']\n",
            "['Var', 'Yok']\n",
            "['Boş', 'Eşyalı']\n",
            "['Evet', 'Hayır']\n"
          ]
        }
      ]
    },
    {
      "cell_type": "code",
      "metadata": {
        "id": "KwCiHkXdOea8"
      },
      "source": [
        "## Verideki kategorisel verilerin nümerik değerlere çevrilmesi yapıldı. Bu sayede daha iyi sonuçlar alınması hedeflendi.\n",
        "oda_hashmap = {'2+1': 4,'3+1': 5,'5+2': 9,'Stüdyo': 1,'1+1': 2,'3+2': 7,'1 Oda': 1,'4+1': 6,'5+1': 7,'4+2': 8,'8+ Oda': 13,'7+2': 11,'6+2': 10, '3.5+1': 5}\n",
        "bina_hashmap = {'21 Ve Üzeri': 25, '5-10': 7, '11-15': 13, '16-20': 18, '4': 4, '0 (Yeni)': 0, '1': 1, '3': 3, '2': 2}\n",
        "balkon_hashmap = {'Yok': -1, 'Var': 1}\n",
        "esya_hashmap = {'Boş': -1, 'Eşyalı': 1}\n",
        "site_hashmap = {'Evet': 1, 'Hayır': -1}"
      ],
      "execution_count": null,
      "outputs": []
    },
    {
      "cell_type": "code",
      "metadata": {
        "colab": {
          "base_uri": "https://localhost:8080/",
          "height": 206
        },
        "id": "5B9JJWuLNy2Y",
        "outputId": "45fb379c-5b90-4c93-bfed-484134e24603"
      },
      "source": [
        "houses_df = houses_df.replace({'Oda Sayısı': oda_hashmap})\n",
        "houses_df = houses_df.replace({'Bina Yaşı': bina_hashmap})\n",
        "houses_df = houses_df.replace({'Balkon Durumu': balkon_hashmap})\n",
        "houses_df = houses_df.replace({'Eşya Durumu': esya_hashmap})\n",
        "houses_df = houses_df.replace({'Site İçerisinde': site_hashmap})\n",
        "houses_df.head()"
      ],
      "execution_count": null,
      "outputs": [
        {
          "output_type": "execute_result",
          "data": {
            "text/html": [
              "\n",
              "  <div id=\"df-5a472cfc-87ba-4fca-b552-b0d623e3dba0\">\n",
              "    <div class=\"colab-df-container\">\n",
              "      <div>\n",
              "<style scoped>\n",
              "    .dataframe tbody tr th:only-of-type {\n",
              "        vertical-align: middle;\n",
              "    }\n",
              "\n",
              "    .dataframe tbody tr th {\n",
              "        vertical-align: top;\n",
              "    }\n",
              "\n",
              "    .dataframe thead th {\n",
              "        text-align: right;\n",
              "    }\n",
              "</style>\n",
              "<table border=\"1\" class=\"dataframe\">\n",
              "  <thead>\n",
              "    <tr style=\"text-align: right;\">\n",
              "      <th></th>\n",
              "      <th>Kira</th>\n",
              "      <th>Alan</th>\n",
              "      <th>Oda Sayısı</th>\n",
              "      <th>Banyo Sayısı</th>\n",
              "      <th>Bina Yaşı</th>\n",
              "      <th>Isıtma Tipi</th>\n",
              "      <th>Balkon Durumu</th>\n",
              "      <th>Eşya Durumu</th>\n",
              "      <th>Site İçerisinde</th>\n",
              "    </tr>\n",
              "  </thead>\n",
              "  <tbody>\n",
              "    <tr>\n",
              "      <th>0</th>\n",
              "      <td>3300</td>\n",
              "      <td>105</td>\n",
              "      <td>4</td>\n",
              "      <td>1</td>\n",
              "      <td>2</td>\n",
              "      <td>Merkezi (Pay Ölçer)</td>\n",
              "      <td>1</td>\n",
              "      <td>-1</td>\n",
              "      <td>1</td>\n",
              "    </tr>\n",
              "    <tr>\n",
              "      <th>1</th>\n",
              "      <td>2400</td>\n",
              "      <td>45</td>\n",
              "      <td>1</td>\n",
              "      <td>1</td>\n",
              "      <td>7</td>\n",
              "      <td>Merkezi Doğalgaz</td>\n",
              "      <td>-1</td>\n",
              "      <td>1</td>\n",
              "      <td>1</td>\n",
              "    </tr>\n",
              "    <tr>\n",
              "      <th>2</th>\n",
              "      <td>4350</td>\n",
              "      <td>65</td>\n",
              "      <td>4</td>\n",
              "      <td>1</td>\n",
              "      <td>7</td>\n",
              "      <td>Merkezi (Pay Ölçer)</td>\n",
              "      <td>1</td>\n",
              "      <td>1</td>\n",
              "      <td>1</td>\n",
              "    </tr>\n",
              "    <tr>\n",
              "      <th>3</th>\n",
              "      <td>1750</td>\n",
              "      <td>70</td>\n",
              "      <td>4</td>\n",
              "      <td>1</td>\n",
              "      <td>7</td>\n",
              "      <td>Kombi Doğalgaz</td>\n",
              "      <td>1</td>\n",
              "      <td>-1</td>\n",
              "      <td>-1</td>\n",
              "    </tr>\n",
              "    <tr>\n",
              "      <th>4</th>\n",
              "      <td>3750</td>\n",
              "      <td>75</td>\n",
              "      <td>4</td>\n",
              "      <td>1</td>\n",
              "      <td>7</td>\n",
              "      <td>Kombi Doğalgaz</td>\n",
              "      <td>-1</td>\n",
              "      <td>1</td>\n",
              "      <td>1</td>\n",
              "    </tr>\n",
              "  </tbody>\n",
              "</table>\n",
              "</div>\n",
              "      <button class=\"colab-df-convert\" onclick=\"convertToInteractive('df-5a472cfc-87ba-4fca-b552-b0d623e3dba0')\"\n",
              "              title=\"Convert this dataframe to an interactive table.\"\n",
              "              style=\"display:none;\">\n",
              "        \n",
              "  <svg xmlns=\"http://www.w3.org/2000/svg\" height=\"24px\"viewBox=\"0 0 24 24\"\n",
              "       width=\"24px\">\n",
              "    <path d=\"M0 0h24v24H0V0z\" fill=\"none\"/>\n",
              "    <path d=\"M18.56 5.44l.94 2.06.94-2.06 2.06-.94-2.06-.94-.94-2.06-.94 2.06-2.06.94zm-11 1L8.5 8.5l.94-2.06 2.06-.94-2.06-.94L8.5 2.5l-.94 2.06-2.06.94zm10 10l.94 2.06.94-2.06 2.06-.94-2.06-.94-.94-2.06-.94 2.06-2.06.94z\"/><path d=\"M17.41 7.96l-1.37-1.37c-.4-.4-.92-.59-1.43-.59-.52 0-1.04.2-1.43.59L10.3 9.45l-7.72 7.72c-.78.78-.78 2.05 0 2.83L4 21.41c.39.39.9.59 1.41.59.51 0 1.02-.2 1.41-.59l7.78-7.78 2.81-2.81c.8-.78.8-2.07 0-2.86zM5.41 20L4 18.59l7.72-7.72 1.47 1.35L5.41 20z\"/>\n",
              "  </svg>\n",
              "      </button>\n",
              "      \n",
              "  <style>\n",
              "    .colab-df-container {\n",
              "      display:flex;\n",
              "      flex-wrap:wrap;\n",
              "      gap: 12px;\n",
              "    }\n",
              "\n",
              "    .colab-df-convert {\n",
              "      background-color: #E8F0FE;\n",
              "      border: none;\n",
              "      border-radius: 50%;\n",
              "      cursor: pointer;\n",
              "      display: none;\n",
              "      fill: #1967D2;\n",
              "      height: 32px;\n",
              "      padding: 0 0 0 0;\n",
              "      width: 32px;\n",
              "    }\n",
              "\n",
              "    .colab-df-convert:hover {\n",
              "      background-color: #E2EBFA;\n",
              "      box-shadow: 0px 1px 2px rgba(60, 64, 67, 0.3), 0px 1px 3px 1px rgba(60, 64, 67, 0.15);\n",
              "      fill: #174EA6;\n",
              "    }\n",
              "\n",
              "    [theme=dark] .colab-df-convert {\n",
              "      background-color: #3B4455;\n",
              "      fill: #D2E3FC;\n",
              "    }\n",
              "\n",
              "    [theme=dark] .colab-df-convert:hover {\n",
              "      background-color: #434B5C;\n",
              "      box-shadow: 0px 1px 3px 1px rgba(0, 0, 0, 0.15);\n",
              "      filter: drop-shadow(0px 1px 2px rgba(0, 0, 0, 0.3));\n",
              "      fill: #FFFFFF;\n",
              "    }\n",
              "  </style>\n",
              "\n",
              "      <script>\n",
              "        const buttonEl =\n",
              "          document.querySelector('#df-5a472cfc-87ba-4fca-b552-b0d623e3dba0 button.colab-df-convert');\n",
              "        buttonEl.style.display =\n",
              "          google.colab.kernel.accessAllowed ? 'block' : 'none';\n",
              "\n",
              "        async function convertToInteractive(key) {\n",
              "          const element = document.querySelector('#df-5a472cfc-87ba-4fca-b552-b0d623e3dba0');\n",
              "          const dataTable =\n",
              "            await google.colab.kernel.invokeFunction('convertToInteractive',\n",
              "                                                     [key], {});\n",
              "          if (!dataTable) return;\n",
              "\n",
              "          const docLinkHtml = 'Like what you see? Visit the ' +\n",
              "            '<a target=\"_blank\" href=https://colab.research.google.com/notebooks/data_table.ipynb>data table notebook</a>'\n",
              "            + ' to learn more about interactive tables.';\n",
              "          element.innerHTML = '';\n",
              "          dataTable['output_type'] = 'display_data';\n",
              "          await google.colab.output.renderOutput(dataTable, element);\n",
              "          const docLink = document.createElement('div');\n",
              "          docLink.innerHTML = docLinkHtml;\n",
              "          element.appendChild(docLink);\n",
              "        }\n",
              "      </script>\n",
              "    </div>\n",
              "  </div>\n",
              "  "
            ],
            "text/plain": [
              "   Kira  Alan Oda Sayısı  ...  Balkon Durumu  Eşya Durumu Site İçerisinde\n",
              "0  3300   105          4  ...              1           -1               1\n",
              "1  2400    45          1  ...             -1            1               1\n",
              "2  4350    65          4  ...              1            1               1\n",
              "3  1750    70          4  ...              1           -1              -1\n",
              "4  3750    75          4  ...             -1            1               1\n",
              "\n",
              "[5 rows x 9 columns]"
            ]
          },
          "metadata": {},
          "execution_count": 22
        }
      ]
    },
    {
      "cell_type": "code",
      "source": [
        "inp = {'Alan': [128], 'Oda Sayısı':\t[5],'Banyo Sayısı':\t[1],'Bina Yaşı':\t[18],'Isıtma Tipi':\t['Merkezi Doğalgaz'],'Balkon Durumu':\t[-1],'Eşya Durumu': [-1],'Site İçerisinde':\t[1]}\n",
        "#inp = pd.get_dummies(inp)\n",
        "final_inp = pd.get_dummies(houses_df)[:1]\n",
        "final_inp.pop('Kira')\n",
        "final_inp[:] = 0\n",
        "final_inp['Alan'][0] = inp['Alan'][0]\n",
        "final_inp['Oda Sayısı'][0] = inp['Oda Sayısı'][0]\n",
        "final_inp['Banyo Sayısı'][0] = inp['Banyo Sayısı'][0]\n",
        "final_inp['Bina Yaşı'][0] = inp['Bina Yaşı'][0]\n",
        "final_inp['Balkon Durumu'][0] = inp['Balkon Durumu'][0]\n",
        "final_inp['Eşya Durumu'][0] = inp['Eşya Durumu'][0]\n",
        "final_inp['Site İçerisinde'][0] = inp['Site İçerisinde'][0]\n",
        "final_inp['Isıtma Tipi_' + inp['Isıtma Tipi'][0]] = 1\n",
        "loaded_models[1].predict(final_inp)"
      ],
      "metadata": {
        "colab": {
          "base_uri": "https://localhost:8080/",
          "height": 197
        },
        "id": "o6uFDDUpDxDv",
        "outputId": "66559a40-2f0b-4481-9356-1c7387ab1c47"
      },
      "execution_count": null,
      "outputs": [
        {
          "output_type": "error",
          "ename": "AttributeError",
          "evalue": "ignored",
          "traceback": [
            "\u001b[0;31m---------------------------------------------------------------------------\u001b[0m",
            "\u001b[0;31mAttributeError\u001b[0m                            Traceback (most recent call last)",
            "\u001b[0;32m<ipython-input-141-06004a1f12eb>\u001b[0m in \u001b[0;36m<module>\u001b[0;34m()\u001b[0m\n\u001b[1;32m     12\u001b[0m \u001b[0mfinal_inp\u001b[0m\u001b[0;34m[\u001b[0m\u001b[0;34m'Site İçerisinde'\u001b[0m\u001b[0;34m]\u001b[0m\u001b[0;34m[\u001b[0m\u001b[0;36m0\u001b[0m\u001b[0;34m]\u001b[0m \u001b[0;34m=\u001b[0m \u001b[0minp\u001b[0m\u001b[0;34m[\u001b[0m\u001b[0;34m'Site İçerisinde'\u001b[0m\u001b[0;34m]\u001b[0m\u001b[0;34m[\u001b[0m\u001b[0;36m0\u001b[0m\u001b[0;34m]\u001b[0m\u001b[0;34m\u001b[0m\u001b[0;34m\u001b[0m\u001b[0m\n\u001b[1;32m     13\u001b[0m \u001b[0mfinal_inp\u001b[0m\u001b[0;34m[\u001b[0m\u001b[0;34m'Isıtma Tipi_'\u001b[0m \u001b[0;34m+\u001b[0m \u001b[0minp\u001b[0m\u001b[0;34m[\u001b[0m\u001b[0;34m'Isıtma Tipi'\u001b[0m\u001b[0;34m]\u001b[0m\u001b[0;34m[\u001b[0m\u001b[0;36m0\u001b[0m\u001b[0;34m]\u001b[0m\u001b[0;34m]\u001b[0m \u001b[0;34m=\u001b[0m \u001b[0;36m1\u001b[0m\u001b[0;34m\u001b[0m\u001b[0;34m\u001b[0m\u001b[0m\n\u001b[0;32m---> 14\u001b[0;31m \u001b[0mloaded_models\u001b[0m\u001b[0;34m[\u001b[0m\u001b[0;36m1\u001b[0m\u001b[0;34m]\u001b[0m\u001b[0;34m.\u001b[0m\u001b[0mpredict\u001b[0m\u001b[0;34m(\u001b[0m\u001b[0mfinal_inp\u001b[0m\u001b[0;34m)\u001b[0m\u001b[0;34m\u001b[0m\u001b[0;34m\u001b[0m\u001b[0m\n\u001b[0m",
            "\u001b[0;31mAttributeError\u001b[0m: 'list' object has no attribute 'predict'"
          ]
        }
      ]
    },
    {
      "cell_type": "code",
      "metadata": {
        "id": "FjbjoIoYNyqF"
      },
      "source": [
        "## Nümerik olarak ifade edilemeyen \"Isıtma Tipi\" sınıfı dummy coding ile ifade edildi\n",
        "houses_df = pd.get_dummies(houses_df)"
      ],
      "execution_count": null,
      "outputs": []
    },
    {
      "cell_type": "code",
      "source": [
        "houses_df"
      ],
      "metadata": {
        "colab": {
          "base_uri": "https://localhost:8080/",
          "height": 497
        },
        "id": "LUPLWI_cCXsU",
        "outputId": "9658499e-8611-4a33-8bc1-f36edb0c0825"
      },
      "execution_count": null,
      "outputs": [
        {
          "output_type": "execute_result",
          "data": {
            "text/html": [
              "\n",
              "  <div id=\"df-e820f096-c583-47ea-8662-7fe617d91c0e\">\n",
              "    <div class=\"colab-df-container\">\n",
              "      <div>\n",
              "<style scoped>\n",
              "    .dataframe tbody tr th:only-of-type {\n",
              "        vertical-align: middle;\n",
              "    }\n",
              "\n",
              "    .dataframe tbody tr th {\n",
              "        vertical-align: top;\n",
              "    }\n",
              "\n",
              "    .dataframe thead th {\n",
              "        text-align: right;\n",
              "    }\n",
              "</style>\n",
              "<table border=\"1\" class=\"dataframe\">\n",
              "  <thead>\n",
              "    <tr style=\"text-align: right;\">\n",
              "      <th></th>\n",
              "      <th>Kira</th>\n",
              "      <th>Alan</th>\n",
              "      <th>Oda Sayısı</th>\n",
              "      <th>Banyo Sayısı</th>\n",
              "      <th>Bina Yaşı</th>\n",
              "      <th>Balkon Durumu</th>\n",
              "      <th>Eşya Durumu</th>\n",
              "      <th>Site İçerisinde</th>\n",
              "      <th>Isıtma Tipi_Doğalgaz Sobalı</th>\n",
              "      <th>Isıtma Tipi_Kat Kaloriferi</th>\n",
              "      <th>Isıtma Tipi_Klimalı</th>\n",
              "      <th>Isıtma Tipi_Kombi Doğalgaz</th>\n",
              "      <th>Isıtma Tipi_Merkezi (Pay Ölçer)</th>\n",
              "      <th>Isıtma Tipi_Merkezi Doğalgaz</th>\n",
              "      <th>Isıtma Tipi_Sobalı</th>\n",
              "    </tr>\n",
              "  </thead>\n",
              "  <tbody>\n",
              "    <tr>\n",
              "      <th>0</th>\n",
              "      <td>3900</td>\n",
              "      <td>128</td>\n",
              "      <td>5</td>\n",
              "      <td>1</td>\n",
              "      <td>18</td>\n",
              "      <td>-1</td>\n",
              "      <td>-1</td>\n",
              "      <td>1</td>\n",
              "      <td>0</td>\n",
              "      <td>0</td>\n",
              "      <td>0</td>\n",
              "      <td>0</td>\n",
              "      <td>0</td>\n",
              "      <td>1</td>\n",
              "      <td>0</td>\n",
              "    </tr>\n",
              "    <tr>\n",
              "      <th>1</th>\n",
              "      <td>6000</td>\n",
              "      <td>88</td>\n",
              "      <td>2</td>\n",
              "      <td>1</td>\n",
              "      <td>0</td>\n",
              "      <td>1</td>\n",
              "      <td>-1</td>\n",
              "      <td>-1</td>\n",
              "      <td>0</td>\n",
              "      <td>0</td>\n",
              "      <td>0</td>\n",
              "      <td>1</td>\n",
              "      <td>0</td>\n",
              "      <td>0</td>\n",
              "      <td>0</td>\n",
              "    </tr>\n",
              "    <tr>\n",
              "      <th>2</th>\n",
              "      <td>2300</td>\n",
              "      <td>90</td>\n",
              "      <td>4</td>\n",
              "      <td>1</td>\n",
              "      <td>7</td>\n",
              "      <td>-1</td>\n",
              "      <td>-1</td>\n",
              "      <td>-1</td>\n",
              "      <td>0</td>\n",
              "      <td>0</td>\n",
              "      <td>0</td>\n",
              "      <td>1</td>\n",
              "      <td>0</td>\n",
              "      <td>0</td>\n",
              "      <td>0</td>\n",
              "    </tr>\n",
              "    <tr>\n",
              "      <th>3</th>\n",
              "      <td>2450</td>\n",
              "      <td>105</td>\n",
              "      <td>4</td>\n",
              "      <td>1</td>\n",
              "      <td>4</td>\n",
              "      <td>-1</td>\n",
              "      <td>-1</td>\n",
              "      <td>-1</td>\n",
              "      <td>0</td>\n",
              "      <td>0</td>\n",
              "      <td>0</td>\n",
              "      <td>1</td>\n",
              "      <td>0</td>\n",
              "      <td>0</td>\n",
              "      <td>0</td>\n",
              "    </tr>\n",
              "    <tr>\n",
              "      <th>4</th>\n",
              "      <td>2700</td>\n",
              "      <td>55</td>\n",
              "      <td>2</td>\n",
              "      <td>1</td>\n",
              "      <td>7</td>\n",
              "      <td>-1</td>\n",
              "      <td>-1</td>\n",
              "      <td>-1</td>\n",
              "      <td>0</td>\n",
              "      <td>0</td>\n",
              "      <td>0</td>\n",
              "      <td>1</td>\n",
              "      <td>0</td>\n",
              "      <td>0</td>\n",
              "      <td>0</td>\n",
              "    </tr>\n",
              "    <tr>\n",
              "      <th>...</th>\n",
              "      <td>...</td>\n",
              "      <td>...</td>\n",
              "      <td>...</td>\n",
              "      <td>...</td>\n",
              "      <td>...</td>\n",
              "      <td>...</td>\n",
              "      <td>...</td>\n",
              "      <td>...</td>\n",
              "      <td>...</td>\n",
              "      <td>...</td>\n",
              "      <td>...</td>\n",
              "      <td>...</td>\n",
              "      <td>...</td>\n",
              "      <td>...</td>\n",
              "      <td>...</td>\n",
              "    </tr>\n",
              "    <tr>\n",
              "      <th>356</th>\n",
              "      <td>1200</td>\n",
              "      <td>80</td>\n",
              "      <td>4</td>\n",
              "      <td>1</td>\n",
              "      <td>0</td>\n",
              "      <td>-1</td>\n",
              "      <td>-1</td>\n",
              "      <td>-1</td>\n",
              "      <td>0</td>\n",
              "      <td>0</td>\n",
              "      <td>0</td>\n",
              "      <td>1</td>\n",
              "      <td>0</td>\n",
              "      <td>0</td>\n",
              "      <td>0</td>\n",
              "    </tr>\n",
              "    <tr>\n",
              "      <th>357</th>\n",
              "      <td>4750</td>\n",
              "      <td>250</td>\n",
              "      <td>6</td>\n",
              "      <td>2</td>\n",
              "      <td>7</td>\n",
              "      <td>-1</td>\n",
              "      <td>-1</td>\n",
              "      <td>-1</td>\n",
              "      <td>0</td>\n",
              "      <td>0</td>\n",
              "      <td>0</td>\n",
              "      <td>1</td>\n",
              "      <td>0</td>\n",
              "      <td>0</td>\n",
              "      <td>0</td>\n",
              "    </tr>\n",
              "    <tr>\n",
              "      <th>358</th>\n",
              "      <td>2700</td>\n",
              "      <td>190</td>\n",
              "      <td>4</td>\n",
              "      <td>2</td>\n",
              "      <td>7</td>\n",
              "      <td>1</td>\n",
              "      <td>-1</td>\n",
              "      <td>-1</td>\n",
              "      <td>0</td>\n",
              "      <td>0</td>\n",
              "      <td>0</td>\n",
              "      <td>1</td>\n",
              "      <td>0</td>\n",
              "      <td>0</td>\n",
              "      <td>0</td>\n",
              "    </tr>\n",
              "    <tr>\n",
              "      <th>359</th>\n",
              "      <td>5000</td>\n",
              "      <td>70</td>\n",
              "      <td>2</td>\n",
              "      <td>1</td>\n",
              "      <td>0</td>\n",
              "      <td>1</td>\n",
              "      <td>1</td>\n",
              "      <td>1</td>\n",
              "      <td>0</td>\n",
              "      <td>0</td>\n",
              "      <td>0</td>\n",
              "      <td>0</td>\n",
              "      <td>1</td>\n",
              "      <td>0</td>\n",
              "      <td>0</td>\n",
              "    </tr>\n",
              "    <tr>\n",
              "      <th>360</th>\n",
              "      <td>4950</td>\n",
              "      <td>105</td>\n",
              "      <td>4</td>\n",
              "      <td>1</td>\n",
              "      <td>7</td>\n",
              "      <td>-1</td>\n",
              "      <td>1</td>\n",
              "      <td>-1</td>\n",
              "      <td>0</td>\n",
              "      <td>0</td>\n",
              "      <td>0</td>\n",
              "      <td>0</td>\n",
              "      <td>1</td>\n",
              "      <td>0</td>\n",
              "      <td>0</td>\n",
              "    </tr>\n",
              "  </tbody>\n",
              "</table>\n",
              "<p>361 rows × 15 columns</p>\n",
              "</div>\n",
              "      <button class=\"colab-df-convert\" onclick=\"convertToInteractive('df-e820f096-c583-47ea-8662-7fe617d91c0e')\"\n",
              "              title=\"Convert this dataframe to an interactive table.\"\n",
              "              style=\"display:none;\">\n",
              "        \n",
              "  <svg xmlns=\"http://www.w3.org/2000/svg\" height=\"24px\"viewBox=\"0 0 24 24\"\n",
              "       width=\"24px\">\n",
              "    <path d=\"M0 0h24v24H0V0z\" fill=\"none\"/>\n",
              "    <path d=\"M18.56 5.44l.94 2.06.94-2.06 2.06-.94-2.06-.94-.94-2.06-.94 2.06-2.06.94zm-11 1L8.5 8.5l.94-2.06 2.06-.94-2.06-.94L8.5 2.5l-.94 2.06-2.06.94zm10 10l.94 2.06.94-2.06 2.06-.94-2.06-.94-.94-2.06-.94 2.06-2.06.94z\"/><path d=\"M17.41 7.96l-1.37-1.37c-.4-.4-.92-.59-1.43-.59-.52 0-1.04.2-1.43.59L10.3 9.45l-7.72 7.72c-.78.78-.78 2.05 0 2.83L4 21.41c.39.39.9.59 1.41.59.51 0 1.02-.2 1.41-.59l7.78-7.78 2.81-2.81c.8-.78.8-2.07 0-2.86zM5.41 20L4 18.59l7.72-7.72 1.47 1.35L5.41 20z\"/>\n",
              "  </svg>\n",
              "      </button>\n",
              "      \n",
              "  <style>\n",
              "    .colab-df-container {\n",
              "      display:flex;\n",
              "      flex-wrap:wrap;\n",
              "      gap: 12px;\n",
              "    }\n",
              "\n",
              "    .colab-df-convert {\n",
              "      background-color: #E8F0FE;\n",
              "      border: none;\n",
              "      border-radius: 50%;\n",
              "      cursor: pointer;\n",
              "      display: none;\n",
              "      fill: #1967D2;\n",
              "      height: 32px;\n",
              "      padding: 0 0 0 0;\n",
              "      width: 32px;\n",
              "    }\n",
              "\n",
              "    .colab-df-convert:hover {\n",
              "      background-color: #E2EBFA;\n",
              "      box-shadow: 0px 1px 2px rgba(60, 64, 67, 0.3), 0px 1px 3px 1px rgba(60, 64, 67, 0.15);\n",
              "      fill: #174EA6;\n",
              "    }\n",
              "\n",
              "    [theme=dark] .colab-df-convert {\n",
              "      background-color: #3B4455;\n",
              "      fill: #D2E3FC;\n",
              "    }\n",
              "\n",
              "    [theme=dark] .colab-df-convert:hover {\n",
              "      background-color: #434B5C;\n",
              "      box-shadow: 0px 1px 3px 1px rgba(0, 0, 0, 0.15);\n",
              "      filter: drop-shadow(0px 1px 2px rgba(0, 0, 0, 0.3));\n",
              "      fill: #FFFFFF;\n",
              "    }\n",
              "  </style>\n",
              "\n",
              "      <script>\n",
              "        const buttonEl =\n",
              "          document.querySelector('#df-e820f096-c583-47ea-8662-7fe617d91c0e button.colab-df-convert');\n",
              "        buttonEl.style.display =\n",
              "          google.colab.kernel.accessAllowed ? 'block' : 'none';\n",
              "\n",
              "        async function convertToInteractive(key) {\n",
              "          const element = document.querySelector('#df-e820f096-c583-47ea-8662-7fe617d91c0e');\n",
              "          const dataTable =\n",
              "            await google.colab.kernel.invokeFunction('convertToInteractive',\n",
              "                                                     [key], {});\n",
              "          if (!dataTable) return;\n",
              "\n",
              "          const docLinkHtml = 'Like what you see? Visit the ' +\n",
              "            '<a target=\"_blank\" href=https://colab.research.google.com/notebooks/data_table.ipynb>data table notebook</a>'\n",
              "            + ' to learn more about interactive tables.';\n",
              "          element.innerHTML = '';\n",
              "          dataTable['output_type'] = 'display_data';\n",
              "          await google.colab.output.renderOutput(dataTable, element);\n",
              "          const docLink = document.createElement('div');\n",
              "          docLink.innerHTML = docLinkHtml;\n",
              "          element.appendChild(docLink);\n",
              "        }\n",
              "      </script>\n",
              "    </div>\n",
              "  </div>\n",
              "  "
            ],
            "text/plain": [
              "     Kira  Alan  ...  Isıtma Tipi_Merkezi Doğalgaz  Isıtma Tipi_Sobalı\n",
              "0    3900   128  ...                             1                   0\n",
              "1    6000    88  ...                             0                   0\n",
              "2    2300    90  ...                             0                   0\n",
              "3    2450   105  ...                             0                   0\n",
              "4    2700    55  ...                             0                   0\n",
              "..    ...   ...  ...                           ...                 ...\n",
              "356  1200    80  ...                             0                   0\n",
              "357  4750   250  ...                             0                   0\n",
              "358  2700   190  ...                             0                   0\n",
              "359  5000    70  ...                             0                   0\n",
              "360  4950   105  ...                             0                   0\n",
              "\n",
              "[361 rows x 15 columns]"
            ]
          },
          "metadata": {},
          "execution_count": 143
        }
      ]
    },
    {
      "cell_type": "code",
      "metadata": {
        "id": "dciiNabyTJUf"
      },
      "source": [
        "## Veri test ve train olmak üzere 2 parçaya ayrıldı\n",
        "houses_df_train, houses_df_test = train_test_split(houses_df, \n",
        "                                     train_size = 0.8, \n",
        "                                     test_size = 0.2, \n",
        "                                     random_state = 10)"
      ],
      "execution_count": null,
      "outputs": []
    },
    {
      "cell_type": "code",
      "metadata": {
        "id": "AgR74D5eZ5Nt"
      },
      "source": [
        "X_train = houses_df_train ## Kira harici kategoriler\n",
        "y_train = X_train.pop('Kira') ## Kira kategorisi\n",
        "X_test = houses_df_test\n",
        "y_test = X_test.pop('Kira')"
      ],
      "execution_count": null,
      "outputs": []
    },
    {
      "cell_type": "code",
      "source": [
        "X_train[:1]"
      ],
      "metadata": {
        "colab": {
          "base_uri": "https://localhost:8080/",
          "height": 158
        },
        "id": "oY5A-cqFAVPS",
        "outputId": "a8ef8487-59f0-4722-fe74-be96c1367f34"
      },
      "execution_count": null,
      "outputs": [
        {
          "output_type": "execute_result",
          "data": {
            "text/html": [
              "\n",
              "  <div id=\"df-1c52435f-bbfd-4237-a14b-d9c48b23044f\">\n",
              "    <div class=\"colab-df-container\">\n",
              "      <div>\n",
              "<style scoped>\n",
              "    .dataframe tbody tr th:only-of-type {\n",
              "        vertical-align: middle;\n",
              "    }\n",
              "\n",
              "    .dataframe tbody tr th {\n",
              "        vertical-align: top;\n",
              "    }\n",
              "\n",
              "    .dataframe thead th {\n",
              "        text-align: right;\n",
              "    }\n",
              "</style>\n",
              "<table border=\"1\" class=\"dataframe\">\n",
              "  <thead>\n",
              "    <tr style=\"text-align: right;\">\n",
              "      <th></th>\n",
              "      <th>Alan</th>\n",
              "      <th>Oda Sayısı</th>\n",
              "      <th>Banyo Sayısı</th>\n",
              "      <th>Bina Yaşı</th>\n",
              "      <th>Balkon Durumu</th>\n",
              "      <th>Eşya Durumu</th>\n",
              "      <th>Site İçerisinde</th>\n",
              "      <th>Isıtma Tipi_Doğalgaz Sobalı</th>\n",
              "      <th>Isıtma Tipi_Kat Kaloriferi</th>\n",
              "      <th>Isıtma Tipi_Klimalı</th>\n",
              "      <th>Isıtma Tipi_Kombi Doğalgaz</th>\n",
              "      <th>Isıtma Tipi_Merkezi (Pay Ölçer)</th>\n",
              "      <th>Isıtma Tipi_Merkezi Doğalgaz</th>\n",
              "      <th>Isıtma Tipi_Sobalı</th>\n",
              "    </tr>\n",
              "  </thead>\n",
              "  <tbody>\n",
              "    <tr>\n",
              "      <th>34</th>\n",
              "      <td>35</td>\n",
              "      <td>1</td>\n",
              "      <td>1</td>\n",
              "      <td>7</td>\n",
              "      <td>-1</td>\n",
              "      <td>-1</td>\n",
              "      <td>1</td>\n",
              "      <td>0</td>\n",
              "      <td>0</td>\n",
              "      <td>1</td>\n",
              "      <td>0</td>\n",
              "      <td>0</td>\n",
              "      <td>0</td>\n",
              "      <td>0</td>\n",
              "    </tr>\n",
              "  </tbody>\n",
              "</table>\n",
              "</div>\n",
              "      <button class=\"colab-df-convert\" onclick=\"convertToInteractive('df-1c52435f-bbfd-4237-a14b-d9c48b23044f')\"\n",
              "              title=\"Convert this dataframe to an interactive table.\"\n",
              "              style=\"display:none;\">\n",
              "        \n",
              "  <svg xmlns=\"http://www.w3.org/2000/svg\" height=\"24px\"viewBox=\"0 0 24 24\"\n",
              "       width=\"24px\">\n",
              "    <path d=\"M0 0h24v24H0V0z\" fill=\"none\"/>\n",
              "    <path d=\"M18.56 5.44l.94 2.06.94-2.06 2.06-.94-2.06-.94-.94-2.06-.94 2.06-2.06.94zm-11 1L8.5 8.5l.94-2.06 2.06-.94-2.06-.94L8.5 2.5l-.94 2.06-2.06.94zm10 10l.94 2.06.94-2.06 2.06-.94-2.06-.94-.94-2.06-.94 2.06-2.06.94z\"/><path d=\"M17.41 7.96l-1.37-1.37c-.4-.4-.92-.59-1.43-.59-.52 0-1.04.2-1.43.59L10.3 9.45l-7.72 7.72c-.78.78-.78 2.05 0 2.83L4 21.41c.39.39.9.59 1.41.59.51 0 1.02-.2 1.41-.59l7.78-7.78 2.81-2.81c.8-.78.8-2.07 0-2.86zM5.41 20L4 18.59l7.72-7.72 1.47 1.35L5.41 20z\"/>\n",
              "  </svg>\n",
              "      </button>\n",
              "      \n",
              "  <style>\n",
              "    .colab-df-container {\n",
              "      display:flex;\n",
              "      flex-wrap:wrap;\n",
              "      gap: 12px;\n",
              "    }\n",
              "\n",
              "    .colab-df-convert {\n",
              "      background-color: #E8F0FE;\n",
              "      border: none;\n",
              "      border-radius: 50%;\n",
              "      cursor: pointer;\n",
              "      display: none;\n",
              "      fill: #1967D2;\n",
              "      height: 32px;\n",
              "      padding: 0 0 0 0;\n",
              "      width: 32px;\n",
              "    }\n",
              "\n",
              "    .colab-df-convert:hover {\n",
              "      background-color: #E2EBFA;\n",
              "      box-shadow: 0px 1px 2px rgba(60, 64, 67, 0.3), 0px 1px 3px 1px rgba(60, 64, 67, 0.15);\n",
              "      fill: #174EA6;\n",
              "    }\n",
              "\n",
              "    [theme=dark] .colab-df-convert {\n",
              "      background-color: #3B4455;\n",
              "      fill: #D2E3FC;\n",
              "    }\n",
              "\n",
              "    [theme=dark] .colab-df-convert:hover {\n",
              "      background-color: #434B5C;\n",
              "      box-shadow: 0px 1px 3px 1px rgba(0, 0, 0, 0.15);\n",
              "      filter: drop-shadow(0px 1px 2px rgba(0, 0, 0, 0.3));\n",
              "      fill: #FFFFFF;\n",
              "    }\n",
              "  </style>\n",
              "\n",
              "      <script>\n",
              "        const buttonEl =\n",
              "          document.querySelector('#df-1c52435f-bbfd-4237-a14b-d9c48b23044f button.colab-df-convert');\n",
              "        buttonEl.style.display =\n",
              "          google.colab.kernel.accessAllowed ? 'block' : 'none';\n",
              "\n",
              "        async function convertToInteractive(key) {\n",
              "          const element = document.querySelector('#df-1c52435f-bbfd-4237-a14b-d9c48b23044f');\n",
              "          const dataTable =\n",
              "            await google.colab.kernel.invokeFunction('convertToInteractive',\n",
              "                                                     [key], {});\n",
              "          if (!dataTable) return;\n",
              "\n",
              "          const docLinkHtml = 'Like what you see? Visit the ' +\n",
              "            '<a target=\"_blank\" href=https://colab.research.google.com/notebooks/data_table.ipynb>data table notebook</a>'\n",
              "            + ' to learn more about interactive tables.';\n",
              "          element.innerHTML = '';\n",
              "          dataTable['output_type'] = 'display_data';\n",
              "          await google.colab.output.renderOutput(dataTable, element);\n",
              "          const docLink = document.createElement('div');\n",
              "          docLink.innerHTML = docLinkHtml;\n",
              "          element.appendChild(docLink);\n",
              "        }\n",
              "      </script>\n",
              "    </div>\n",
              "  </div>\n",
              "  "
            ],
            "text/plain": [
              "    Alan  Oda Sayısı  ...  Isıtma Tipi_Merkezi Doğalgaz  Isıtma Tipi_Sobalı\n",
              "34    35           1  ...                             0                   0\n",
              "\n",
              "[1 rows x 14 columns]"
            ]
          },
          "metadata": {},
          "execution_count": 41
        }
      ]
    },
    {
      "cell_type": "code",
      "source": [
        "import pickle"
      ],
      "metadata": {
        "id": "UmRUpV3OAVUb"
      },
      "execution_count": null,
      "outputs": []
    },
    {
      "cell_type": "code",
      "metadata": {
        "id": "u4bgGj8CQoua",
        "colab": {
          "base_uri": "https://localhost:8080/"
        },
        "outputId": "e20d24a7-b00b-4a08-f730-f5368d714095"
      },
      "source": [
        "models = [LinearRegression(),\n",
        "              RandomForestRegressor(n_estimators=100, max_features='sqrt'),\n",
        "              KNeighborsRegressor(n_neighbors=1),\n",
        "              SVR(kernel='linear'),\n",
        "              ]\n",
        "trained_models=[]\n",
        "for model in models:\n",
        "  reg_model = model.fit(X_train, y_train)\n",
        "  trained_models.append(reg_model)\n",
        "  y_pred = reg_model.predict(X_train)\n",
        "  final_score = r2_score(y_train, y_pred)\n",
        "  \n",
        "  print(model, final_score)\n",
        "\n",
        "pickle.dump(trained_models, open(\"/content/\" + ILCE_LIST[0], 'wb'))\n",
        "\n",
        "\n"
      ],
      "execution_count": null,
      "outputs": [
        {
          "output_type": "stream",
          "name": "stdout",
          "text": [
            "LinearRegression() 0.49635720235863534\n",
            "RandomForestRegressor(max_features='sqrt') 0.872411154211077\n",
            "KNeighborsRegressor(n_neighbors=1) 0.9586532744238501\n",
            "SVR(kernel='linear') 0.13463531250832694\n"
          ]
        }
      ]
    },
    {
      "cell_type": "code",
      "source": [
        "\n",
        "loaded_model = pickle.load(open(\"/content/\" + ILCE_LIST[2], 'rb'))\n",
        "loaded_model"
      ],
      "metadata": {
        "colab": {
          "base_uri": "https://localhost:8080/"
        },
        "id": "WkAjW3OKAoHg",
        "outputId": "5f337c73-5264-4892-8745-e8899d62979a"
      },
      "execution_count": null,
      "outputs": [
        {
          "output_type": "execute_result",
          "data": {
            "text/plain": [
              "[LinearRegression(),\n",
              " RandomForestRegressor(max_features='sqrt'),\n",
              " KNeighborsRegressor(n_neighbors=1),\n",
              " SVR(kernel='linear')]"
            ]
          },
          "metadata": {},
          "execution_count": 134
        }
      ]
    },
    {
      "cell_type": "code",
      "source": [
        "\n",
        "loaded_models[168].predict(X_train[:1])"
      ],
      "metadata": {
        "colab": {
          "base_uri": "https://localhost:8080/"
        },
        "id": "DRpfz21ZBA_k",
        "outputId": "14b6caf3-713f-40ae-8cb9-b39ad7f440c3"
      },
      "execution_count": null,
      "outputs": [
        {
          "output_type": "execute_result",
          "data": {
            "text/plain": [
              "array([1981.75])"
            ]
          },
          "metadata": {},
          "execution_count": 42
        }
      ]
    },
    {
      "cell_type": "code",
      "source": [
        ""
      ],
      "metadata": {
        "id": "oXzIJ7HZUXcI"
      },
      "execution_count": null,
      "outputs": []
    },
    {
      "cell_type": "markdown",
      "source": [
        ""
      ],
      "metadata": {
        "id": "2lncvPZd3OId"
      }
    }
  ]
}